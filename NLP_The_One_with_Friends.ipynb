{
  "nbformat": 4,
  "nbformat_minor": 0,
  "metadata": {
    "colab": {
      "name": "Lau kopi af Merge af NLP Friends_inkl_tSNE_and_smartpath.ipynb",
      "provenance": [],
      "collapsed_sections": [
        "PhzDijSPm9no"
      ],
      "machine_shape": "hm",
      "include_colab_link": true
    },
    "kernelspec": {
      "name": "python3",
      "display_name": "Python 3"
    },
    "accelerator": "GPU"
  },
  "cells": [
    {
      "cell_type": "markdown",
      "metadata": {
        "id": "view-in-github",
        "colab_type": "text"
      },
      "source": [
        "<a href=\"https://colab.research.google.com/github/LauJohansson/DeepLearning_NLP_Friends/blob/master/NLP_The_One_with_Friends.ipynb\" target=\"_parent\"><img src=\"https://colab.research.google.com/assets/colab-badge.svg\" alt=\"Open In Colab\"/></a>"
      ]
    },
    {
      "cell_type": "markdown",
      "metadata": {
        "id": "YiIMKIBRmeI_",
        "colab_type": "text"
      },
      "source": [
        "#**Introduction**"
      ]
    },
    {
      "cell_type": "markdown",
      "metadata": {
        "id": "twGMoGa7mhCd",
        "colab_type": "text"
      },
      "source": [
        "We build a Recurrent Neural Network (RNN) using the Long Short-Term Memory (LSTM) architecture. Through tuning of hyperparameters and regularization through variational sequence length and DropConnect we achieve a perplexity value on the Penn Treebank dataset. We then utilize the found model to generate dialogue for the TV-series “Friends”. To this end, we pretrain the model on Wikipedia text and further tune the hyperparameters to fit “Friends”. Finally, we show a subset of the predicted dialogue and visualise the found semantics of “Friends” through t-SNE on the embedding weights.  \n",
        "\n",
        "\n"
      ]
    },
    {
      "cell_type": "markdown",
      "metadata": {
        "id": "LtIKDkJSg2XV",
        "colab_type": "text"
      },
      "source": [
        "NB: When opening from Github you can not load or save pretrained model"
      ]
    },
    {
      "cell_type": "markdown",
      "metadata": {
        "id": "PhzDijSPm9no",
        "colab_type": "text"
      },
      "source": [
        "##Acknowledgements"
      ]
    },
    {
      "cell_type": "markdown",
      "metadata": {
        "id": "wX9wD9wbnJSY",
        "colab_type": "text"
      },
      "source": [
        "\n",
        "This notebook is inspired by the following NLP Tutorial:https://github.com/graykode/nlp-tutorial\n",
        "Made by Tae-Hwan Jung. "
      ]
    },
    {
      "cell_type": "markdown",
      "metadata": {
        "id": "_DK8RFoquSj5",
        "colab_type": "text"
      },
      "source": [
        "# **Initialising Friends data**\n"
      ]
    },
    {
      "cell_type": "markdown",
      "metadata": {
        "id": "aLpYqib8PeGH",
        "colab_type": "text"
      },
      "source": [
        "![alt text](https://drive.google.com/uc?id=1JzPdBavHFL-8R1Tc0F6z9KlELR326MXy)\n"
      ]
    },
    {
      "cell_type": "code",
      "metadata": {
        "id": "64wMafbF9Xxl",
        "colab_type": "code",
        "colab": {
          "base_uri": "https://localhost:8080/",
          "height": 122
        },
        "outputId": "cf0f3711-c2b1-4f0c-f76a-42186c1ed1dd"
      },
      "source": [
        "#Imports\n",
        "import collections\n",
        "import pickle\n",
        "import pandas as pd\n",
        "import glob\n",
        "import io\n",
        "import matplotlib. pyplot as plt\n",
        "from collections import Counter\n",
        "# Importing drive method from colab for accessing google drive\n",
        "from google.colab import drive\n",
        "\n",
        "# Mounting drive\n",
        "## This will require authentication : Follow the steps as guided\n",
        "\n",
        "##Choose your path for saving and loading the trained net:\n",
        "\n",
        "##Default path:\n",
        "#PATH=\"/content/drive/My Drive/\"\n",
        "\n",
        "#Authors path:\n",
        "PATH=\"/content/drive/My Drive/DL_project/\"\n",
        "\n",
        "drive.mount('/content/drive',force_remount=True)"
      ],
      "execution_count": 1,
      "outputs": [
        {
          "output_type": "stream",
          "text": [
            "Go to this URL in a browser: https://accounts.google.com/o/oauth2/auth?client_id=947318989803-6bn6qk8qdgf4n4g3pfee6491hc0brc4i.apps.googleusercontent.com&redirect_uri=urn%3aietf%3awg%3aoauth%3a2.0%3aoob&response_type=code&scope=email%20https%3a%2f%2fwww.googleapis.com%2fauth%2fdocs.test%20https%3a%2f%2fwww.googleapis.com%2fauth%2fdrive%20https%3a%2f%2fwww.googleapis.com%2fauth%2fdrive.photos.readonly%20https%3a%2f%2fwww.googleapis.com%2fauth%2fpeopleapi.readonly\n",
            "\n",
            "Enter your authorization code:\n",
            "··········\n",
            "Mounted at /content/drive\n"
          ],
          "name": "stdout"
        }
      ]
    },
    {
      "cell_type": "code",
      "metadata": {
        "id": "84ed6CSdPlRY",
        "colab_type": "code",
        "colab": {}
      },
      "source": [
        "#Loading data from Github\n",
        "## If your are one of the authors or you have the files located on your google drive - google drive is used. \n",
        "\n",
        "try: #If files in google drive\n",
        "  datafrom='Drive'\n",
        "  friends_train = open(PATH+\"friends_train.txt\").read()\n",
        "  friends_valid = open(PATH+\"friends_valid.txt\").read()\n",
        "  friends_test = open(PATH+\"friends_test.txt\").read()\n",
        "\n",
        "  pretraining_train = open(PATH+\"wikitrainclean.txt\").read()\n",
        "  pretraining_valid = open(PATH+\"wikivalidclean.txt\").read()\n",
        "  pretraining_test = open(PATH+\"wikitestclean.txt\").read()\n",
        "  \n",
        "except: #For github version\n",
        "  datafrom='Github'\n",
        "  from urllib.request import urlopen\n",
        "\n",
        "  friends_train=str(urlopen('https://raw.githubusercontent.com/LauJohansson/DeepLearning_NLP_Friends/master/Data/friends_train.txt').read(),encoding=\"utf-8\")\n",
        "  friends_valid = str(urlopen('https://raw.githubusercontent.com/LauJohansson/DeepLearning_NLP_Friends/master/Data/friends_valid.txt').read(),encoding=\"utf-8\")\n",
        "  friends_test = str(urlopen('https://raw.githubusercontent.com/LauJohansson/DeepLearning_NLP_Friends/master/Data/friends_test.txt').read(),encoding=\"utf-8\")\n",
        "\n",
        "  pretraining_train = str(urlopen('https://raw.githubusercontent.com/LauJohansson/DeepLearning_NLP_Friends/master/Data/seinfeldtrainclean.txt').read(),encoding=\"utf-8\")\n",
        "  pretraining_valid = str(urlopen('https://raw.githubusercontent.com/LauJohansson/DeepLearning_NLP_Friends/master/Data/seinfeldvalidclean.txt').read(),encoding=\"utf-8\")\n",
        "  pretraining_test = str(urlopen('https://raw.githubusercontent.com/LauJohansson/DeepLearning_NLP_Friends/master/Data/seinfeldtestclean.txt').read(),encoding=\"utf-8\")\n"
      ],
      "execution_count": 0,
      "outputs": []
    },
    {
      "cell_type": "code",
      "metadata": {
        "id": "Vq9vje2nvas2",
        "colab_type": "code",
        "outputId": "84bacaa4-4902-493b-da87-5c30d2358b47",
        "colab": {
          "base_uri": "https://localhost:8080/",
          "height": 34
        }
      },
      "source": [
        "#Check where you get data from:\n",
        "datafrom"
      ],
      "execution_count": 9,
      "outputs": [
        {
          "output_type": "execute_result",
          "data": {
            "text/plain": [
              "'Drive'"
            ]
          },
          "metadata": {
            "tags": []
          },
          "execution_count": 9
        }
      ]
    },
    {
      "cell_type": "code",
      "metadata": {
        "id": "UIQl-Df3TiEZ",
        "colab_type": "code",
        "outputId": "c42d7ebe-91e7-41da-8dd0-2811cdd03efd",
        "colab": {
          "base_uri": "https://localhost:8080/",
          "height": 136
        }
      },
      "source": [
        "# check data\n",
        "print(\"Traindata snippet friends:    \" + friends_train[:100])\n",
        "print(\"Validdata snippet friends:    \" + friends_valid[:100])\n",
        "print(\"Testdata snippet friends:     \" + friends_test[:100])\n",
        "print()\n",
        "print(\"Traindata snippet pretraining:       \" + pretraining_train[:100])\n",
        "print(\"Validdata snippet pretraining:       \" + pretraining_valid[:100])\n",
        "print(\"Testdata snippet pretraining:        \" + pretraining_test[:100])"
      ],
      "execution_count": 10,
      "outputs": [
        {
          "output_type": "stream",
          "text": [
            "Traindata snippet friends:    [ scene: central perk , chandler , joey , phoebe , and monica are there . ] monica: there's nothing \n",
            "Validdata snippet friends:    parts that i really wanted . you always believed in me man . even , even when i didn't believe in my\n",
            "Testdata snippet friends:     is at the half - opened door ] phoebe: ( in a strange heavy accent ) hello <unk> , it's time for you\n",
            "\n",
            "Traindata snippet pretraining:       valkyria chronicles iii senj\\u014d no valkyria 3 : <unk> chronicles ( japanese : \\u6226\\u5834\\u306e\\\n",
            "Validdata snippet pretraining:       homarus gammarus homarus gammarus , known as the european lobster or common lobster , is a species o\n",
            "Testdata snippet pretraining:        robert <unk> robert <unk> is an english film , television and theatre actor . he had a guest @ - @ s\n"
          ],
          "name": "stdout"
        }
      ]
    },
    {
      "cell_type": "code",
      "metadata": {
        "id": "gvq6sH9HSqtx",
        "colab_type": "code",
        "outputId": "aee81931-2006-4eb0-b8f3-f773c75e6e1c",
        "colab": {
          "base_uri": "https://localhost:8080/",
          "height": 34
        }
      },
      "source": [
        "# Find words that occur in friends data, but not in pretraining data\n",
        "words_notinpretraining = list(set(friends_train.split()).difference(pretraining_train.split()))\n",
        "words_notinpretraining[0:5]"
      ],
      "execution_count": 7,
      "outputs": [
        {
          "output_type": "execute_result",
          "data": {
            "text/plain": [
              "['ding', 'craps', 'back...', 'porsche', 'counselor']"
            ]
          },
          "metadata": {
            "tags": []
          },
          "execution_count": 7
        }
      ]
    },
    {
      "cell_type": "markdown",
      "metadata": {
        "id": "gBJq1zyuuGkz",
        "colab_type": "text"
      },
      "source": [
        "# **Initialising Penn Tree Bank data**\n",
        "![alt text](https://drive.google.com/uc?id=1A8SY9dmsLx2hoanWWWhT_IJnJcJOmluR)\n"
      ]
    },
    {
      "cell_type": "markdown",
      "metadata": {
        "id": "kAp6BEbqQEDe",
        "colab_type": "text"
      },
      "source": [
        "The following site is used as inspiration to get PTB data: https://corochann.com/penn-tree-bank-ptb-dataset-introduction-1456.html\n",
        "\n",
        "\n"
      ]
    },
    {
      "cell_type": "code",
      "metadata": {
        "id": "zoW2qb_YQMil",
        "colab_type": "code",
        "outputId": "4b12a5bd-67e0-46bc-e284-d4f598e9f208",
        "colab": {
          "base_uri": "https://localhost:8080/",
          "height": 54
        }
      },
      "source": [
        "'''\n",
        "#Get PTB data\n",
        "from __future__ import print_function\n",
        "import os\n",
        "import matplotlib.pyplot as plt\n",
        "%matplotlib inline\n",
        " \n",
        " \n",
        "import numpy as np\n",
        " \n",
        "import chainer\n",
        "train, val, test = chainer.datasets.get_ptb_words()\n",
        "\n",
        "ptb_dict = chainer.datasets.get_ptb_words_vocabulary()\n",
        "print('Number of vocabulary', len(ptb_dict))\n",
        "print('ptb_dict', ptb_dict)\n",
        "\n",
        "ptb_word_id_dict = ptb_dict\n",
        "ptb_id_word_dict = dict((v,k) for k,v in ptb_word_id_dict.items())\n",
        "\n",
        "\n",
        "#Create data as str\n",
        "dataPTB=' '.join([ptb_id_word_dict[i] for i in train[:]])\n",
        "dataPTBtest=' '.join([ptb_id_word_dict[i] for i in test[:]])\n",
        "dataPTBvalid=' '.join([ptb_id_word_dict[i] for i in val[:]])\n",
        "'''"
      ],
      "execution_count": 0,
      "outputs": [
        {
          "output_type": "execute_result",
          "data": {
            "text/plain": [
              "\"\\n#Get PTB data\\nfrom __future__ import print_function\\nimport os\\nimport matplotlib.pyplot as plt\\n%matplotlib inline\\n \\n \\nimport numpy as np\\n \\nimport chainer\\ntrain, val, test = chainer.datasets.get_ptb_words()\\n\\nptb_dict = chainer.datasets.get_ptb_words_vocabulary()\\nprint('Number of vocabulary', len(ptb_dict))\\nprint('ptb_dict', ptb_dict)\\n\\nptb_word_id_dict = ptb_dict\\nptb_id_word_dict = dict((v,k) for k,v in ptb_word_id_dict.items())\\n\\n\\n#Create data as str\\ndataPTB=' '.join([ptb_id_word_dict[i] for i in train[:]])\\ndataPTBtest=' '.join([ptb_id_word_dict[i] for i in test[:]])\\ndataPTBvalid=' '.join([ptb_id_word_dict[i] for i in val[:]])\\n\""
            ]
          },
          "metadata": {
            "tags": []
          },
          "execution_count": 27
        }
      ]
    },
    {
      "cell_type": "markdown",
      "metadata": {
        "id": "dIVP8LXaNyGA",
        "colab_type": "text"
      },
      "source": [
        "#***Import and initializing hyperparameters***\n"
      ]
    },
    {
      "cell_type": "code",
      "metadata": {
        "id": "B2otEIPN5TPc",
        "colab_type": "code",
        "colab": {}
      },
      "source": [
        "import torch\n",
        "import torch.nn as nn\n",
        "import torch.nn.functional as F\n",
        "\n",
        "import numpy as np\n",
        "from collections import Counter\n",
        "import os\n",
        "from argparse import Namespace\n",
        "\n",
        "flags = Namespace(\n",
        "    mode = 'friends', #'pretraining' is pretraining and 'friends' is fine-tuning.\n",
        "    name='Friends',\n",
        "    train_file_pretraining = pretraining_train,                    #shift between data (data or dataPTB)\n",
        "    valid_file_pretraining = pretraining_valid, \n",
        "    test_file_pretraining = pretraining_test,   \n",
        "    train_file_friends= friends_train,                    #shift between data (data or dataPTB)\n",
        "    valid_file_friends= friends_valid, \n",
        "    test_file_friends = friends_test,\n",
        "    seq_size= 32, #16,\n",
        "    batch_size=40, #16,\n",
        "    embedding_size=256, #300,\n",
        "    lstm_size=512, #,300,                      #Hidden size\n",
        "    gradients_norm=0.5,\n",
        "    #initial_words=['banknote', 'berlitz'],\n",
        "    initial_words_train = [],\n",
        "    initial_words_valid= [],\n",
        "    predict_top_k=5,                    #Choose the k best next_word_prediction, and a random is chosing.\n",
        "    checkpoint_path='checkpoint',\n",
        "    total_epochs=80,   #30                  #Change number of epochs in training\n",
        "    learning_rate=0.001,\n",
        "    predict_every=1000,\n",
        "    #validation_corpus_size=len(valid_file.split()),\n",
        "    dropconnect_rate=0.4,\n",
        "    n_lay=2,\n",
        "\n",
        "    #Set variational sequence length on/off\n",
        "    var_seq='Y',                            #Choose if variational sequence length is on/off\n",
        "    var_seq_std=2,                          #Choose std. dev. for norm distribution for var. seq. length ( in moment 1/2 of seq length)\n",
        "\n",
        "\n",
        "    #scheduler parameters\n",
        "    schedule_on='N',                        #Choose if LR-scheduler is on/off\n",
        "    triangular='N',                         #Choose 'Y' to turn on the slanted triangular LR. \n",
        "    cut_fracI=0.2,                          #Choose the fraction of iterations we increase the LR in STL\n",
        "    ratioI=32,                              #Choose how much smaller the lowest LR is from the maximum LR ηmax\n",
        "    nmaxI=0.0,                              #this will be set = learning_rate \n",
        "\n",
        "    #Use same drop-mask for drop-connect\n",
        "    same_drop_lstm='N',                     #Choose 'Y' if drop-connect all should use same mask\n",
        "    \n",
        "    #Dropout on embedding layer\n",
        "    drop_embed=0.5,                         #Choose dropoutrate for embedding dropout        \n",
        "\n",
        "    #Optimizer selection\n",
        "    optim_select='AdamW'                      #Choose between \"AdamW, SGD, ASGD\"\n",
        "\n",
        ")\n",
        "\n",
        "\n",
        "#initialising two random words, the train and test data should use\n",
        "if flags.mode == 'friends':\n",
        "  for i in range(0,1):\n",
        "    flags.initial_words_train.append(np.random.choice(flags.train_file_friends.split()))\n",
        "    flags.initial_words_valid.append(np.random.choice(flags.valid_file_friends.split()))\n",
        "    flags.validation_corpus_size = len(flags.valid_file_friends.split())\n",
        "    \n",
        "if flags.mode == 'pretraining':\n",
        "  for i in range(0,1):\n",
        "    flags.initial_words_train.append(np.random.choice(flags.train_file_pretraining.split()))\n",
        "    flags.initial_words_valid.append(np.random.choice(flags.valid_file_pretraining.split()))\n",
        "    flags.validation_corpus_size = len(flags.valid_file_pretraining.split())\n",
        "\n",
        "flags.nmaxI=flags.learning_rate"
      ],
      "execution_count": 0,
      "outputs": []
    },
    {
      "cell_type": "markdown",
      "metadata": {
        "id": "OKozVznDlxMS",
        "colab_type": "text"
      },
      "source": [
        "#**Define functions and set up model**"
      ]
    },
    {
      "cell_type": "markdown",
      "metadata": {
        "id": "CYSUF18ZN6cf",
        "colab_type": "text"
      },
      "source": [
        "##Function to get data for main and batch-function"
      ]
    },
    {
      "cell_type": "code",
      "metadata": {
        "id": "bjlDy7cq5UA8",
        "colab_type": "code",
        "colab": {}
      },
      "source": [
        "def get_data_from_file(train_file, batch_size, seq_size):\n",
        "  \n",
        "    text=train_file.split()\n",
        "    # Extend words_notinpretraining to text to get them as a part of the mapping dictionary\n",
        "    text.extend(words_notinpretraining)\n",
        "    word_counts = Counter(text)\n",
        "    sorted_vocab = sorted(word_counts, key=word_counts.get, reverse=True)\n",
        "    int_to_vocab = {k: w for k, w in enumerate(sorted_vocab)}\n",
        "    vocab_to_int = {w: k for k, w in int_to_vocab.items()}\n",
        "    n_vocab = len(int_to_vocab)\n",
        "\n",
        "    text=train_file.split()\n",
        "\n",
        "    print('Vocabulary size', n_vocab)\n",
        "\n",
        "    int_text = [vocab_to_int[w] for w in text]\n",
        "    num_batches = int(len(int_text) / (seq_size * batch_size))\n",
        "    in_text = int_text[:num_batches * batch_size * seq_size]\n",
        "    out_text = np.zeros_like(in_text)\n",
        "    out_text[:-1] = in_text[1:]\n",
        "    out_text[-1] = in_text[0]\n",
        "    in_text = np.reshape(in_text, (batch_size, -1))\n",
        "    out_text = np.reshape(out_text, (batch_size, -1))\n",
        "    return int_to_vocab, vocab_to_int, n_vocab, in_text, out_text"
      ],
      "execution_count": 0,
      "outputs": []
    },
    {
      "cell_type": "code",
      "metadata": {
        "id": "7pPsjVmq5Wes",
        "colab_type": "code",
        "colab": {}
      },
      "source": [
        "def get_batches(in_text, out_text, batch_size, seq_size):\n",
        "    num_batches = np.prod(in_text.shape) // (seq_size * batch_size)\n",
        "    for i in range(0, num_batches * seq_size, seq_size):\n",
        "        yield in_text[:, i:i+seq_size], out_text[:, i:i+seq_size]"
      ],
      "execution_count": 0,
      "outputs": []
    },
    {
      "cell_type": "markdown",
      "metadata": {
        "id": "VkuuPkykOH6k",
        "colab_type": "text"
      },
      "source": [
        "##Setting up the model"
      ]
    },
    {
      "cell_type": "code",
      "metadata": {
        "id": "ncUCPVoc5bLd",
        "colab_type": "code",
        "colab": {}
      },
      "source": [
        "class RNNModule(nn.Module):\n",
        "    def __init__(self, n_vocab, seq_size, embedding_size, lstm_size):\n",
        "        super(RNNModule, self).__init__()\n",
        "        self.seq_size = seq_size\n",
        "        self.lstm_size = lstm_size\n",
        "        self.embedding = nn.Embedding(n_vocab, embedding_size)\n",
        "        self.lstm=nn.LSTM(embedding_size,\n",
        "                            lstm_size,\n",
        "                            batch_first=True,num_layers=flags.n_lay)\n",
        "        \n",
        "        self.dense = nn.Linear(lstm_size, n_vocab)\n",
        "        self.drop_out=nn.Dropout(flags.drop_embed)\n",
        "        self.OneMaskOnly=torch.autograd.Variable(torch.Tensor(getattr(self.lstm,self.lstm._all_weights[0][0]).shape[0],\n",
        "                                                        getattr(self.lstm,self.lstm._all_weights[0][0]).shape[1]).uniform_().to(\"cuda\") > flags.dropconnect_rate)\n",
        "\n",
        "\n",
        "    def forward(self, x, prev_state):\n",
        "        embed = self.embedding(x)\n",
        "        embed=self.drop_out(embed)\n",
        "        orig=[]\n",
        "\n",
        "        #Make dropconnect\n",
        "        if self.training:\n",
        "          for i in range( len(self.lstm._all_weights[0])):\n",
        "            name = self.lstm._all_weights[0][i]\n",
        "            if name.find('LSTM.weight_hh_l')!=-1:      \n",
        "              orig.append(getattr(self.lstm,name))\n",
        "            \n",
        "              if flags.same_drop_lstm=='Y':\n",
        "                mask=self.OneMaskOnly\n",
        "              else:\n",
        "                mask=torch.autograd.Variable(torch.Tensor(getattr(self.lstm,name).shape[0],\n",
        "                                                        getattr(self.lstm,name).shape[1]).uniform_().to(\"cuda\") > flags.flags.dropconnect_rate)\n",
        "              setattr(self.lstm,name,torch.nn.Parameter(torch.mul(getattr(self.lstm,name),mask)))\n",
        "              \n",
        "              self.lstm.flatten_parameters()\n",
        "             \n",
        "\n",
        "        #LSTM forward\n",
        "        output, state = self.lstm(embed, prev_state)\n",
        "\n",
        "        #Set hh-weight back to original\n",
        "        if self.training:\n",
        "          a=0\n",
        "          for i in range( len(self.lstm._all_weights[0])):\n",
        "            name = self.lstm._all_weights[0][i]\n",
        "            if name.find('LSTM.weight_hh_l')!=-1:\n",
        "              print(orig)\n",
        "              setattr(self.lstm,name,orig[a])\n",
        "              #self.lstm.weight_hh_l0=orig\n",
        "              self.lstm.flatten_parameters()\n",
        "              a=+1\n",
        "\n",
        "        logits = self.dense(output)\n",
        "\n",
        "        return logits, state\n",
        "       \n",
        "    def zero_state(self, batch_size):\n",
        "        return (torch.zeros(flags.n_lay, batch_size, self.lstm_size),\n",
        "                torch.zeros(flags.n_lay, batch_size, self.lstm_size))"
      ],
      "execution_count": 0,
      "outputs": []
    },
    {
      "cell_type": "markdown",
      "metadata": {
        "id": "kf20oH-l9pIZ",
        "colab_type": "text"
      },
      "source": [
        "##Defining ASGD\n",
        "from: https://pytorch.org/docs/stable/_modules/torch/optim/asgd.html\n"
      ]
    },
    {
      "cell_type": "code",
      "metadata": {
        "id": "63Qg4X449uXi",
        "colab_type": "code",
        "colab": {}
      },
      "source": [
        "#import torch\n",
        "#from .optimizer import Optimizer\n",
        "\n",
        "\n",
        "class ASGD(torch.optim.Optimizer):\n",
        "    \"\"\"Implements Averaged Stochastic Gradient Descent.\n",
        "\n",
        "    It has been proposed in `Acceleration of stochastic approximation by\n",
        "    averaging`_.\n",
        "\n",
        "    Arguments:\n",
        "        params (iterable): iterable of parameters to optimize or dicts defining\n",
        "            parameter groups\n",
        "        lr (float, optional): learning rate (default: 1e-2)\n",
        "        lambd (float, optional): decay term (default: 1e-4)\n",
        "        alpha (float, optional): power for eta update (default: 0.75)\n",
        "        t0 (float, optional): point at which to start averaging (default: 1e6)\n",
        "        weight_decay (float, optional): weight decay (L2 penalty) (default: 0)\n",
        "\n",
        "    .. _Acceleration of stochastic approximation by averaging:\n",
        "        http://dl.acm.org/citation.cfm?id=131098\n",
        "    \"\"\"\n",
        "\n",
        "    def __init__(self, params, lr=1e-2, lambd=1e-4, alpha=0.75, t0=1e6, weight_decay=0):\n",
        "        if not 0.0 <= lr:\n",
        "            raise ValueError(\"Invalid learning rate: {}\".format(lr))\n",
        "        if not 0.0 <= weight_decay:\n",
        "            raise ValueError(\"Invalid weight_decay value: {}\".format(weight_decay))\n",
        "\n",
        "        defaults = dict(lr=lr, lambd=lambd, alpha=alpha, t0=t0,\n",
        "                        weight_decay=weight_decay)\n",
        "        super(ASGD, self).__init__(params, defaults)\n",
        "\n",
        "    def step(self, closure=None):\n",
        "        \"\"\"Performs a single optimization step.\n",
        "\n",
        "        Arguments:\n",
        "            closure (callable, optional): A closure that reevaluates the model\n",
        "                and returns the loss.\n",
        "        \"\"\"\n",
        "        loss = None\n",
        "        if closure is not None:\n",
        "            loss = closure()\n",
        "\n",
        "        for group in self.param_groups:\n",
        "            for p in group['params']:\n",
        "                if p.grad is None:\n",
        "                    continue\n",
        "                grad = p.grad.data\n",
        "                if grad.is_sparse:\n",
        "                    raise RuntimeError('ASGD does not support sparse gradients')\n",
        "                state = self.state[p]\n",
        "\n",
        "                # State initialization\n",
        "                if len(state) == 0:\n",
        "                    state['step'] = 0\n",
        "                    state['eta'] = group['lr']\n",
        "                    state['mu'] = 1\n",
        "                    state['ax'] = torch.zeros_like(p.data)\n",
        "\n",
        "                state['step'] += 1\n",
        "\n",
        "                if group['weight_decay'] != 0:\n",
        "                    grad = grad.add(group['weight_decay'], p.data)\n",
        "\n",
        "                # decay term\n",
        "                p.data.mul_(1 - group['lambd'] * state['eta'])\n",
        "\n",
        "                # update parameter\n",
        "                p.data.add_(-state['eta'], grad)\n",
        "\n",
        "                # averaging\n",
        "                if state['mu'] != 1:\n",
        "                    state['ax'].add_(p.data.sub(state['ax']).mul(state['mu']))\n",
        "                else:\n",
        "                    state['ax'].copy_(p.data)\n",
        "\n",
        "                # update eta and mu\n",
        "                state['eta'] = (group['lr'] /\n",
        "                                math.pow((1 + group['lambd'] * group['lr'] * state['step']), group['alpha']))\n",
        "                state['mu'] = 1 / max(1, state['step'] - group['t0'])\n",
        "\n",
        "        return loss"
      ],
      "execution_count": 0,
      "outputs": []
    },
    {
      "cell_type": "markdown",
      "metadata": {
        "id": "Gb22lHosOTjd",
        "colab_type": "text"
      },
      "source": [
        "##Define function to call optimizer"
      ]
    },
    {
      "cell_type": "code",
      "metadata": {
        "id": "iZl2BaWK5mRx",
        "colab_type": "code",
        "colab": {}
      },
      "source": [
        "def get_loss_and_train_op(net, lrI):\n",
        "    criterion = nn.CrossEntropyLoss()\n",
        "    if (flags.optim_select=='ASGD'):\n",
        "      optimizer = torch.optim.ASGD(net.parameters(), lr=lrI,weight_decay=0,t0=0,lambd=0) #decay, t0 and lambd taken from article\n",
        "    elif (flags.optim_select=='SGD'):\n",
        "      optimizer = torch.optim.SGD(net.parameters(), lr=lrI) #decay, t0 and lambd taken from article\n",
        "    else:  \n",
        "      optimizer = torch.optim.AdamW(net.parameters(), lr=lrI,weight_decay=0.3)\n",
        "  \n",
        "    return criterion, optimizer"
      ],
      "execution_count": 0,
      "outputs": []
    },
    {
      "cell_type": "markdown",
      "metadata": {
        "id": "uy8anIthSTXZ",
        "colab_type": "text"
      },
      "source": [
        "##Define function to schedule optimizer for ASGD\n"
      ]
    },
    {
      "cell_type": "markdown",
      "metadata": {
        "id": "2Lqz2wRTUsAw",
        "colab_type": "text"
      },
      "source": [
        "Article used: [Universal Language Model Fine-tuning for Text Classification](https://www.aclweb.org/anthology/P18-1031.pdf?fbclid=IwAR0-TADs3LWh74b4xbA2QW5OYM5-_5iFu2EBjd_0-KVWOUytnBV5TeS9KGo)"
      ]
    },
    {
      "cell_type": "code",
      "metadata": {
        "id": "dC3LvPuXSTqm",
        "colab_type": "code",
        "colab": {}
      },
      "source": [
        "#T=number of epochs * number of updates per epoch\n",
        "#\"cut_frac\" is the fraction of iterations we increase the LR\n",
        "# \"cut\" is the iteration when we switch from increasing to decreasing the LR\n",
        "# \"p\" is the fraction of the number of iterations we have increased or will decrease the LR respectively\n",
        "# \"ratio\" specifies how much smaller the lowest LR is from the maximum LR nmax\n",
        "#\"nt\"/return value is the learning rate at iteration t.\n",
        "\n",
        "#The paper generally use cut_frac = 0.1, ratio = 32 and ηmax = 0.01\n",
        "\n",
        "\n",
        "def triangular_lr_func(t,T,cut_frac=flags.cut_fracI, ratio=flags.ratioI, nmax=flags.nmaxI ):\n",
        "    cut=np.floor(T*cut_frac)\n",
        "\n",
        "    if (t<cut): p=t/cut\n",
        "    else: p=1-((t-cut)/(cut*(ratio-1)))\n",
        "\n",
        "\n",
        "    return nmax * (1+p*(ratio-1))/ratio"
      ],
      "execution_count": 0,
      "outputs": []
    },
    {
      "cell_type": "markdown",
      "metadata": {
        "id": "g-OSrXMTeA6i",
        "colab_type": "text"
      },
      "source": [
        "##Custommade scheduler\n",
        "This scheduler is an example on how ASGD LR can be decreased for each iteration. "
      ]
    },
    {
      "cell_type": "code",
      "metadata": {
        "id": "9aq4WV5lLes_",
        "colab_type": "code",
        "colab": {}
      },
      "source": [
        "def easy_schedule(t,nmax=flags.nmaxI):\n",
        "  result = nmax-(t*0.0001)\n",
        "\n",
        "  if(result<0.1): result=0.1\n",
        "\n",
        "  return result\n"
      ],
      "execution_count": 0,
      "outputs": []
    },
    {
      "cell_type": "markdown",
      "metadata": {
        "id": "eXgqNYjZOW9X",
        "colab_type": "text"
      },
      "source": [
        "#**Define main**"
      ]
    },
    {
      "cell_type": "code",
      "metadata": {
        "id": "TNF3L6ss5qHL",
        "colab_type": "code",
        "colab": {}
      },
      "source": [
        "def main():  \n",
        "    torch.manual_seed(11)\n",
        "    print('------------------------------------------------------------------------  ')\n",
        "    print('----------------------Go into training mode--------------------------------  ')\n",
        "    print(\"----------------------using %s data------------------------\" % flags.mode)\n",
        "    print('------------------------------------------------------------------------  ')\n",
        "    \n",
        "    device = torch.device('cuda' if torch.cuda.is_available() else 'cpu')\n",
        "    # Pre-training mode on pretrainingtext\n",
        "    # Start network from scratch\n",
        "    if flags.mode == 'pretraining': \n",
        "      int_to_vocab, vocab_to_int, n_vocab, in_text, out_text = get_data_from_file(\n",
        "          flags.train_file_pretraining, flags.batch_size, flags.seq_size)\n",
        "           \n",
        "    # Fine-tuning mode on friends\n",
        "    if flags.mode == 'friends': \n",
        "\n",
        "      # Get int_to_vocab, vocab_to_int, n_vocab from pretraining text pre-training\n",
        "      int_to_vocab, vocab_to_int, n_vocab, _, _ = get_data_from_file( \n",
        "          flags.train_file_pretraining, flags.batch_size, flags.seq_size)\n",
        "      \n",
        "\n",
        "      # Load and store data for friends-training\n",
        "      text = flags.train_file_friends.split()\n",
        "      int_text = [vocab_to_int[v] for v in text]\n",
        "      var1 = len(int_text) % flags.batch_size \n",
        "      in_text =   int_text[:] if var1==0 else  int_text[:-var1]              ## Added -19 to make divisble with 20 batch size\n",
        "      out_text = np.zeros_like(in_text)\n",
        "      out_text[:-1] = in_text[1:]\n",
        "      out_text[-1] = in_text[0]\n",
        "      in_text = np.reshape(in_text, (flags.batch_size, -1))\n",
        "      out_text = np.reshape(out_text, (flags.batch_size, -1))\n",
        "\n",
        "\n",
        "    if flags.mode == 'pretraining': \n",
        "      # Load and store data for validation\n",
        "      valid_text = flags.valid_file_pretraining.split()\n",
        "      valid_int_text = [vocab_to_int[v] for v in valid_text]\n",
        "      var2 = len(valid_int_text) % flags.batch_size\n",
        "      valid_in_text =  valid_int_text[:] if var2==0 else valid_int_text[:-var2] ## Added -19 to make divisble with 20 batch size\n",
        "      valid_out_text = np.zeros_like(valid_in_text)\n",
        "      valid_out_text[:-1] = valid_in_text[1:]\n",
        "      valid_out_text[-1] = valid_in_text[0]\n",
        "      valid_in_text = np.reshape(valid_in_text, (flags.batch_size, -1))\n",
        "      valid_out_text = np.reshape(valid_out_text, (flags.batch_size, -1))\n",
        "\n",
        "      test_text = flags.test_file_pretraining.split()\n",
        "      test_int_text = [vocab_to_int[v] for v in test_text]\n",
        "      var3 = len(test_int_text) % flags.batch_size\n",
        "      test_in_text =  test_int_text[:] if var3==0 else test_int_text[:-var3]\n",
        "      test_out_text = np.zeros_like(test_in_text)\n",
        "      test_out_text[:-1] = test_in_text[1:]\n",
        "      test_out_text[-1] = test_in_text[0]\n",
        "      test_in_text = np.reshape(test_in_text, (flags.batch_size, -1))\n",
        "      test_out_text = np.reshape(test_out_text, (flags.batch_size, -1))\n",
        "\n",
        "    \n",
        "    if flags.mode == 'friends': \n",
        "      # Load and store data for validation\n",
        "      valid_text = flags.valid_file_friends.split()\n",
        "      valid_int_text = [vocab_to_int[v] for v in valid_text]\n",
        "      var4 = len(valid_int_text) % flags.batch_size\n",
        "      valid_in_text = valid_int_text[:] if  var4==0 else  valid_int_text[:-var4]\n",
        "      valid_out_text = np.zeros_like(valid_in_text)\n",
        "      valid_out_text[:-1] = valid_in_text[1:]\n",
        "      valid_out_text[-1] = valid_in_text[0]\n",
        "      valid_in_text = np.reshape(valid_in_text, (flags.batch_size, -1))\n",
        "      valid_out_text = np.reshape(valid_out_text, (flags.batch_size, -1))\n",
        "\n",
        "      test_text = flags.test_file_friends.split()\n",
        "      test_int_text = [vocab_to_int[v] for v in test_text]\n",
        "      var5 = len(test_int_text) % flags.batch_size\n",
        "      test_in_text = test_int_text[:] if  var5==0 else  test_int_text[:-var5]\n",
        "      test_out_text = np.zeros_like(test_in_text)\n",
        "      test_out_text[:-1] = test_in_text[1:]\n",
        "      test_out_text[-1] = test_in_text[0]\n",
        "      test_in_text = np.reshape(test_in_text, (flags.batch_size, -1))\n",
        "      test_out_text = np.reshape(test_out_text, (flags.batch_size, -1))\n",
        "\n",
        "\n",
        "    if flags.mode == 'pretraining': \n",
        "      net = RNNModule(n_vocab, flags.seq_size,\n",
        "                      flags.embedding_size, flags.lstm_size)\n",
        "      net = net.to(device)\n",
        "\n",
        "    if flags.mode == 'friends':  \n",
        "      net = RNNModule(n_vocab, flags.seq_size,\n",
        "                      flags.embedding_size, flags.lstm_size)\n",
        "      if datafrom=='Drive':\n",
        "        net.load_state_dict(torch.load('/content/drive/My Drive/net.pth'))\n",
        "      else:\n",
        "        net.load_state_dict(torch.load('/content/drive/My Drive/net.pth'))\n",
        "      \n",
        "      net = net.to(device)\n",
        "      net.eval()\n",
        "\n",
        "    criterion, optimizer = get_loss_and_train_op(net, flags.learning_rate)\n",
        "\n",
        "\n",
        "    \n",
        "\n",
        "    #Documentation from: https://pytorch.org/docs/master/optim.html\n",
        "\n",
        "    if (flags.schedule_on=='Y'):\n",
        "      expected_number_of_epochs= (np.prod(in_text.shape) // (flags.seq_size * flags.batch_size))*flags.total_epochs\n",
        "      \n",
        "    if (flags.triangular=='Y'):\n",
        "        lambda1= lambda iteration_schedule: triangular_lr_func(iteration_schedule,expected_number_of_epochs)\n",
        "    else:\n",
        "        lambda1= lambda iteration_schedule: easy_schedule(iteration_schedule)\n",
        "\n",
        "\n",
        "    scheduler = torch.optim.lr_scheduler.LambdaLR(optimizer, lr_lambda=lambda1)\n",
        "\n",
        "    iteration = 0\n",
        "\n",
        "    if (flags.schedule_on=='Y'):\n",
        "      iteration_schedule=0\n",
        "\n",
        "    epochnumber = []\n",
        "    all_train_losses = []\n",
        "    all_valid_losses = []\n",
        "    all_test_losses = []\n",
        "    for e in range(flags.total_epochs): #Implemented flags.total_epochs to change parameter\n",
        "        epochnumber.extend([e+1])\n",
        "\n",
        "        ######################## TRAINING EPOCH ###########################\n",
        "\n",
        "\n",
        "        ###Variational sequence length###\n",
        "\n",
        "        if (flags.var_seq=='Y'):\n",
        "          base_length=np.round(np.random.normal(flags.seq_size, flags.seq_size/flags.var_seq_std)).astype(int)\n",
        "          if (base_length<2):\n",
        "            base_length=2\n",
        "        else:\n",
        "          base_length=flags.seq_size\n",
        "\n",
        "        #########################\n",
        "\n",
        "\n",
        "\n",
        "        batches = get_batches(in_text, out_text, flags.batch_size, base_length)\n",
        "        valid_batches = get_batches(valid_in_text, valid_out_text, flags.batch_size, base_length)\n",
        "        test_batches = get_batches(test_in_text, test_out_text, flags.batch_size, base_length)\n",
        "\n",
        "        state_h, state_c = net.zero_state(flags.batch_size)\n",
        "        \n",
        "        # Transfer data to GPU\n",
        "        state_h = state_h.to(device)\n",
        "        state_c = state_c.to(device)\n",
        "\n",
        "        for x, y in batches:\n",
        "            iteration += 1\n",
        "\n",
        "\n",
        "            if (flags.schedule_on=='Y'):\n",
        "              iteration_schedule+=1\n",
        "            \n",
        "            # Tell it we are in training mode\n",
        "            net.train()\n",
        "\n",
        "            # Reset all gradients\n",
        "            optimizer.zero_grad()\n",
        "\n",
        "            # Transfer data to GPU\n",
        "            x = torch.tensor(x).to(device)\n",
        "            y = torch.tensor(y).to(device)\n",
        "\n",
        "            logits, (state_h, state_c) = net(x, (state_h, state_c))\n",
        "            loss = criterion(logits.transpose(1, 2), y)\n",
        "\n",
        "            state_h = state_h.detach()\n",
        "            state_c = state_c.detach()\n",
        "\n",
        "            loss_value = loss.item()        \n",
        "\n",
        "            # Perform back-propagation\n",
        "            loss.backward()\n",
        "\n",
        "            _ = torch.nn.utils.clip_grad_norm_(\n",
        "                net.parameters(), flags.gradients_norm)\n",
        "            \n",
        "            # Update the network's parameters\n",
        "            optimizer.step()\n",
        "\n",
        "            #Scheduler step\n",
        "            if (flags.schedule_on=='Y'):\n",
        "              scheduler.step()\n",
        "\n",
        "\n",
        "            if iteration % 100 == 0:\n",
        "                print('Epoch: {}/{}'.format(e, flags.total_epochs), \n",
        "                      'Iteration: {}'.format(iteration),\n",
        "                      '\\t Loss: {}'.format(loss_value))\n",
        "                      #'\\t Perplexity: {}'.format(2**loss_value))\n",
        "        \n",
        "\n",
        "        logits, (state_h, state_c) = net(x, (state_h, state_c))\n",
        "        loss = criterion(logits.transpose(1, 2), y)\n",
        "        loss_value_final = loss.item()    \n",
        "        all_train_losses.append(loss_value_final) \n",
        "        print('Final training loss {}'.format(loss_value_final)) \n",
        "        \n",
        "\n",
        "        ##################### VALIDATION EPOCH ########################\n",
        "        iteration = 0\n",
        "\n",
        "        state_h, state_c = net.zero_state(flags.batch_size)\n",
        "        # Transfer data to GPU\n",
        "\n",
        "        state_h = state_h.to(device)\n",
        "        state_c = state_c.to(device)\n",
        "\n",
        "        for x, y in valid_batches:\n",
        "\n",
        "            iteration += 1\n",
        "\n",
        "            # Tell it we are in evaluation mode\n",
        "            net.eval()\n",
        "\n",
        "            # Transfer data to GPU\n",
        "            x = torch.tensor(x).to(device)\n",
        "            y = torch.tensor(y).to(device)\n",
        "\n",
        "            logits, (state_h, state_c) = net(x, (state_h, state_c))\n",
        "            valid_loss = criterion(logits.transpose(1, 2), y)\n",
        "\n",
        "            state_h = state_h.detach()\n",
        "            state_c = state_c.detach()\n",
        "\n",
        "            valid_loss_value = valid_loss.item()\n",
        "\n",
        "        all_valid_losses.append(valid_loss_value)\n",
        "\n",
        "\n",
        "        ##################### TEST EPOCH ########################\n",
        "        iteration = 0\n",
        "\n",
        "        state_h, state_c = net.zero_state(flags.batch_size)\n",
        "        # Transfer data to GPU\n",
        "\n",
        "        state_h = state_h.to(device)\n",
        "        state_c = state_c.to(device)\n",
        "\n",
        "        for x, y in test_batches:\n",
        "\n",
        "            iteration += 1\n",
        "\n",
        "            # Tell it we are in evaluation mode\n",
        "            net.eval()\n",
        "\n",
        "            # Transfer data to GPU\n",
        "            x = torch.tensor(x).to(device)\n",
        "            y = torch.tensor(y).to(device)\n",
        "\n",
        "            logits, (state_h, state_c) = net(x, (state_h, state_c))\n",
        "            test_loss = criterion(logits.transpose(1, 2), y)\n",
        "\n",
        "            state_h = state_h.detach()\n",
        "            state_c = state_c.detach()\n",
        "\n",
        "            test_loss_value = test_loss.item()\n",
        "\n",
        "        all_test_losses.append(test_loss_value)\n",
        "\n",
        "\n",
        "        print('')\n",
        "       # print('Current mean of validation loss over batches: {}'.format(mean_all_valid_losses))\n",
        "        print('Current validation loss: {}'.format(valid_loss_value))\n",
        "        print('Validation perplexity: {}'.format(np.exp((valid_loss_value))))\n",
        "        print(' ')\n",
        "        print('Current test loss: {}'.format(test_loss_value))\n",
        "        print('Test perplexity: {}'.format(np.exp((test_loss_value))))\n",
        "\n",
        "        print('')\n",
        "            \n",
        "        plt.figure(1)                             \n",
        "        plt.xlabel('Epochs'), plt.ylabel('Loss')   \n",
        "        plt.plot(epochnumber, all_train_losses, 'r', epochnumber, all_valid_losses, 'b', epochnumber, all_test_losses, 'g')\n",
        "        plt.legend(['Train Loss','Validation Loss', 'Test Loss'])    \n",
        "   \n",
        "        last= predict(device, net, flags.initial_words_train, n_vocab,\n",
        "                            vocab_to_int, int_to_vocab, flags.predict_top_k)\n",
        "        print('\\nThe last predicted 200 characters are:\\n')\n",
        "        print(last[-200:])\n",
        "\n",
        "    #path = \"/content/drive/My Drive/DL_project/\"\n",
        "    # save the pretrained model if the validation loss is less than minimum validation loss.\n",
        "        if flags.mode == 'pretraining' and e > 0 and valid_loss_value <= min(all_valid_losses) :\n",
        "          if ( datafrom=='Drive'):\n",
        "            torch.save(net.state_dict(), '/content/drive/My Drive/net.pth')\n",
        "            print('Saved model')\n",
        "          else:\n",
        "            torch.save(net.state_dict(), '/content/drive/My Drive/net.pth')\n",
        "            print('Saved model')\n",
        "\n",
        "\n",
        "    if (flags.mode=='friends'):\n",
        "      print('-----------------------------------------------------------')\n",
        "      print('--------------------Making T-SNE plots---------------------')\n",
        "      print('-----------------------------------------------------------')\n",
        "  \n",
        "\n",
        "      embedding_tensor=net.embedding.weight\n",
        "    \n",
        "      # access Variable's tensor, copy back to CPU, convert to numpy\n",
        "      arr = embedding_tensor.data.cpu().numpy()\n",
        "      # write CSV\n",
        "      #np.savetxt('Embedded_4.csv', arr)\n",
        "      #files.download('Embedded_4.csv')\n",
        "\n",
        "      print(\"Run Y = tsne.tsne(X, no_dims, perplexity) to perform t-SNE on your dataset.\")\n",
        "      print(\"Running example on Friends Data...\")\n",
        "      #X = np.loadtxt(\"Embedded_4.csv\")\n",
        "      X = arr\n",
        "      X = X[0:1000,:] #only the 1040 most used\n",
        "      #with open('Embedded_labels4.csv', 'rb') as f:\n",
        "      #    labels = pickle.load(f)\n",
        "      #labels = labels[0:1000] #only the 1040 most used\n",
        "      labels = list(int_to_vocab.values())[0:1000] #only the 1040 most used\n",
        "                \n",
        "      #labels = np.loadtxt(\"mnist2500_labels.txt\")\n",
        "      Y = tsne(X, 2, 50, 20.0)\n",
        "      #pylab.scatter(Y[:, 0], Y[:, 1], 20, labels)  \n",
        "      #pylab.show()  \n",
        "      \n",
        "      # write labels of interest\n",
        "      subset =['monica','rachel','chandler','ross','joey','phoebe','coffee','gunther','table','muffin','running','drinking','sex','science','movies','beer','pizza','food','janice','guy','girl','wine','paul','barry','it','i','you','he','she','they','ok','love','like','kiss','dinner','lasagna','drink','boy','man','dude','honey','sweetie','hey','hi','hello','muffin','order','place','right','good','fine','so','well']    \n",
        "      #subset = ['man','boy','woman','girl','drink','drinking','eat','eating','love','loving','where','who','what','why','when']\n",
        "      a = 1\n",
        "      labels2 = list()\n",
        "      X2 =list()\n",
        "      Y2 =list()\n",
        "      \n",
        "      \n",
        "      for i in range(1,len(labels)):\n",
        "          if labels[i] in subset:\n",
        "              labels2.append(labels[i])\n",
        "              X2.append(Y[:, 0][i])\n",
        "              Y2.append(Y[:, 1][i])\n",
        "              \n",
        "      plt.figure(2)\n",
        "      #with subset\n",
        "      for i,type in enumerate(labels2):\n",
        "          x = X2[i]\n",
        "          y = Y2[i]\n",
        "          plt.scatter(x, y, marker='o', color='blue')\n",
        "          plt.text(x+0.9, y+0.9, type, fontsize=9)\n",
        "      plt.show()"
      ],
      "execution_count": 0,
      "outputs": []
    },
    {
      "cell_type": "markdown",
      "metadata": {
        "id": "7ZE35gpjOaFa",
        "colab_type": "text"
      },
      "source": [
        "##Define a prediction function"
      ]
    },
    {
      "cell_type": "code",
      "metadata": {
        "id": "E6dnXz8s6BSI",
        "colab_type": "code",
        "colab": {}
      },
      "source": [
        "def predict(device, net, words, n_vocab, vocab_to_int, int_to_vocab, top_k):\n",
        "    net.eval()\n",
        "\n",
        "    state_h, state_c = net.zero_state(1)\n",
        "    state_h = state_h.to(device)\n",
        "    state_c = state_c.to(device)\n",
        "    for w in words:\n",
        "        ix = torch.tensor([[vocab_to_int[w]]]).to(device)\n",
        "        output, (state_h, state_c) = net(ix, (state_h, state_c))\n",
        "    \n",
        "\n",
        "    _, top_ix = torch.topk(output[0], k=top_k)\n",
        "    choices = top_ix.tolist()\n",
        "    choice = np.random.choice(choices[0]) #A way to avoid always choose like \"and\" \"then\"..... \n",
        "\n",
        "    words.append(int_to_vocab[choice])\n",
        "\n",
        "    for _ in range(100):\n",
        "        ix = torch.tensor([[choice]]).to(device)\n",
        "        output, (state_h, state_c) = net(ix, (state_h, state_c))\n",
        "\n",
        "        _, top_ix = torch.topk(output[0], k=top_k)\n",
        "        choices = top_ix.tolist()\n",
        "        choice = np.random.choice(choices[0])\n",
        "        words.append(int_to_vocab[choice])\n",
        "\n",
        "    print(' '.join(words))\n",
        "    return ' '.join(words)"
      ],
      "execution_count": 0,
      "outputs": []
    },
    {
      "cell_type": "markdown",
      "metadata": {
        "id": "Zt1sJj100Bx9",
        "colab_type": "text"
      },
      "source": [
        "## Importing T-SNE"
      ]
    },
    {
      "cell_type": "code",
      "metadata": {
        "id": "72BZeL2P0MjR",
        "colab_type": "code",
        "colab": {}
      },
      "source": [
        "#\n",
        "#  tsne.py\n",
        "#\n",
        "# Implementation of t-SNE in Python. The implementation was tested on Python\n",
        "# 2.7.10, and it requires a working installation of NumPy. The implementation\n",
        "# comes with an example on the MNIST dataset. In order to plot the\n",
        "# results of this example, a working installation of matplotlib is required.\n",
        "#\n",
        "# The example can be run by executing: `ipython tsne.py`\n",
        "#\n",
        "#\n",
        "#  Created by Laurens van der Maaten on 20-12-08.\n",
        "#  Copyright (c) 2008 Tilburg University. All rights reserved.\n",
        "\n",
        "import numpy as np\n",
        "import pylab\n",
        "import matplotlib.pyplot as plt\n",
        "import pickle\n",
        "\n",
        "\n",
        "\n",
        "def Hbeta(D=np.array([]), beta=1.0):\n",
        "    \"\"\"\n",
        "        Compute the perplexity and the P-row for a specific value of the\n",
        "        precision of a Gaussian distribution.\n",
        "    \"\"\"\n",
        "\n",
        "    # Compute P-row and corresponding perplexity\n",
        "    P = np.exp(-D.copy() * beta)\n",
        "    sumP = sum(P)\n",
        "    H = np.log(sumP) + beta * np.sum(D * P) / sumP\n",
        "    P = P / sumP\n",
        "    return H, P\n",
        "\n",
        "\n",
        "def x2p(X=np.array([]), tol=1e-5, perplexity=30.0):\n",
        "    \"\"\"\n",
        "        Performs a binary search to get P-values in such a way that each\n",
        "        conditional Gaussian has the same perplexity.\n",
        "    \"\"\"\n",
        "\n",
        "    # Initialize some variables\n",
        "    print(\"Computing pairwise distances...\")\n",
        "    (n, d) = X.shape\n",
        "    sum_X = np.sum(np.square(X), 1)\n",
        "    D = np.add(np.add(-2 * np.dot(X, X.T), sum_X).T, sum_X)\n",
        "    P = np.zeros((n, n))\n",
        "    beta = np.ones((n, 1))\n",
        "    logU = np.log(perplexity)\n",
        "\n",
        "    # Loop over all datapoints\n",
        "    for i in range(n):\n",
        "\n",
        "        # Print progress\n",
        "        if i % 500 == 0:\n",
        "            print(\"Computing P-values for point %d of %d...\" % (i, n))\n",
        "\n",
        "        # Compute the Gaussian kernel and entropy for the current precision\n",
        "        betamin = -np.inf\n",
        "        betamax = np.inf\n",
        "        Di = D[i, np.concatenate((np.r_[0:i], np.r_[i+1:n]))]\n",
        "        (H, thisP) = Hbeta(Di, beta[i])\n",
        "\n",
        "        # Evaluate whether the perplexity is within tolerance\n",
        "        Hdiff = H - logU\n",
        "        tries = 0\n",
        "        while np.abs(Hdiff) > tol and tries < 50:\n",
        "\n",
        "            # If not, increase or decrease precision\n",
        "            if Hdiff > 0:\n",
        "                betamin = beta[i].copy()\n",
        "                if betamax == np.inf or betamax == -np.inf:\n",
        "                    beta[i] = beta[i] * 2.\n",
        "                else:\n",
        "                    beta[i] = (beta[i] + betamax) / 2.\n",
        "            else:\n",
        "                betamax = beta[i].copy()\n",
        "                if betamin == np.inf or betamin == -np.inf:\n",
        "                    beta[i] = beta[i] / 2.\n",
        "                else:\n",
        "                    beta[i] = (beta[i] + betamin) / 2.\n",
        "\n",
        "            # Recompute the values\n",
        "            (H, thisP) = Hbeta(Di, beta[i])\n",
        "            Hdiff = H - logU\n",
        "            tries += 1\n",
        "\n",
        "        # Set the final row of P\n",
        "        P[i, np.concatenate((np.r_[0:i], np.r_[i+1:n]))] = thisP\n",
        "\n",
        "    # Return final P-matrix\n",
        "    print(\"Mean value of sigma: %f\" % np.mean(np.sqrt(1 / beta)))\n",
        "    return P\n",
        "\n",
        "\n",
        "def pca(X=np.array([]), no_dims=50):\n",
        "    \"\"\"\n",
        "        Runs PCA on the NxD array X in order to reduce its dimensionality to\n",
        "        no_dims dimensions.\n",
        "    \"\"\"\n",
        "\n",
        "    print(\"Preprocessing the data using PCA...\")\n",
        "    (n, d) = X.shape\n",
        "    X = X - np.tile(np.mean(X, 0), (n, 1))\n",
        "    (l, M) = np.linalg.eig(np.dot(X.T, X))\n",
        "    Y = np.dot(X, M[:, 0:no_dims])\n",
        "    return Y\n",
        "\n",
        "\n",
        "def tsne(X=np.array([]), no_dims=2, initial_dims=50, perplexity=30.0):\n",
        "    \"\"\"\n",
        "        Runs t-SNE on the dataset in the NxD array X to reduce its\n",
        "        dimensionality to no_dims dimensions. The syntaxis of the function is\n",
        "        `Y = tsne.tsne(X, no_dims, perplexity), where X is an NxD NumPy array.\n",
        "    \"\"\"\n",
        "\n",
        "    # Check inputs\n",
        "    if isinstance(no_dims, float):\n",
        "        print(\"Error: array X should have type float.\")\n",
        "        return -1\n",
        "    if round(no_dims) != no_dims:\n",
        "        print(\"Error: number of dimensions should be an integer.\")\n",
        "        return -1\n",
        "\n",
        "    # Initialize variables\n",
        "    X = pca(X, initial_dims).real\n",
        "    (n, d) = X.shape\n",
        "    max_iter = 1000\n",
        "    initial_momentum = 0.5\n",
        "    final_momentum = 0.8\n",
        "    eta = 500\n",
        "    min_gain = 0.01\n",
        "    Y = np.random.randn(n, no_dims)\n",
        "    dY = np.zeros((n, no_dims))\n",
        "    iY = np.zeros((n, no_dims))\n",
        "    gains = np.ones((n, no_dims))\n",
        "\n",
        "    # Compute P-values\n",
        "    P = x2p(X, 1e-5, perplexity)\n",
        "    P = P + np.transpose(P)\n",
        "    P = P / np.sum(P)\n",
        "    P = P * 4.\t\t\t\t\t\t\t\t\t# early exaggeration\n",
        "    P = np.maximum(P, 1e-12)\n",
        "\n",
        "    # Run iterations\n",
        "    for iter in range(max_iter):\n",
        "\n",
        "        # Compute pairwise affinities\n",
        "        sum_Y = np.sum(np.square(Y), 1)\n",
        "        num = -2. * np.dot(Y, Y.T)\n",
        "        num = 1. / (1. + np.add(np.add(num, sum_Y).T, sum_Y))\n",
        "        num[range(n), range(n)] = 0.\n",
        "        Q = num / np.sum(num)\n",
        "        Q = np.maximum(Q, 1e-12)\n",
        "\n",
        "        # Compute gradient\n",
        "        PQ = P - Q\n",
        "        for i in range(n):\n",
        "            dY[i, :] = np.sum(np.tile(PQ[:, i] * num[:, i], (no_dims, 1)).T * (Y[i, :] - Y), 0)\n",
        "\n",
        "        # Perform the update\n",
        "        if iter < 20:\n",
        "            momentum = initial_momentum\n",
        "        else:\n",
        "            momentum = final_momentum\n",
        "        gains = (gains + 0.2) * ((dY > 0.) != (iY > 0.)) + \\\n",
        "                (gains * 0.8) * ((dY > 0.) == (iY > 0.))\n",
        "        gains[gains < min_gain] = min_gain\n",
        "        iY = momentum * iY - eta * (gains * dY)\n",
        "        Y = Y + iY\n",
        "        Y = Y - np.tile(np.mean(Y, 0), (n, 1))\n",
        "\n",
        "        # Compute current value of cost function\n",
        "        if (iter + 1) % 10 == 0:\n",
        "            C = np.sum(P * np.log(P / Q))\n",
        "            print(\"Iteration %d: error is %f\" % (iter + 1, C))\n",
        "\n",
        "        # Stop lying about P-values\n",
        "        if iter == 100:\n",
        "            P = P / 4.\n",
        "\n",
        "    # Return solution\n",
        "    return Y\n",
        "\n"
      ],
      "execution_count": 0,
      "outputs": []
    },
    {
      "cell_type": "markdown",
      "metadata": {
        "id": "Rp4Z_Us8OfT6",
        "colab_type": "text"
      },
      "source": [
        "#***Run model***"
      ]
    },
    {
      "cell_type": "code",
      "metadata": {
        "id": "eKG_14IA6JCF",
        "colab_type": "code",
        "outputId": "c11f4b76-0f15-4983-d881-d2d33bd206ed",
        "colab": {
          "base_uri": "https://localhost:8080/",
          "height": 1000
        }
      },
      "source": [
        "if __name__ == '__main__':\n",
        "    main()\n",
        "    "
      ],
      "execution_count": 0,
      "outputs": [
        {
          "output_type": "stream",
          "text": [
            "------------------------------------------------------------------------  \n",
            "----------------------Go into training mode--------------------------------  \n",
            "----------------------using friends data------------------------\n",
            "------------------------------------------------------------------------  \n",
            "Vocabulary size 33347\n",
            "Epoch: 0/2 Iteration: 100 \t Loss: 6.43353796005249\n",
            "Epoch: 0/2 Iteration: 200 \t Loss: 5.885072231292725\n",
            "Epoch: 0/2 Iteration: 300 \t Loss: 5.754425525665283\n",
            "Epoch: 0/2 Iteration: 400 \t Loss: 5.4175567626953125\n",
            "Epoch: 0/2 Iteration: 500 \t Loss: 5.382619380950928\n",
            "Epoch: 0/2 Iteration: 600 \t Loss: 5.365413188934326\n",
            "Epoch: 0/2 Iteration: 700 \t Loss: 5.09623908996582\n",
            "Epoch: 0/2 Iteration: 800 \t Loss: 5.304572582244873\n",
            "Epoch: 0/2 Iteration: 900 \t Loss: 5.020531177520752\n",
            "Epoch: 0/2 Iteration: 1000 \t Loss: 5.044727325439453\n",
            "Epoch: 0/2 Iteration: 1100 \t Loss: 4.879377365112305\n",
            "Epoch: 0/2 Iteration: 1200 \t Loss: 4.94788122177124\n",
            "Epoch: 0/2 Iteration: 1300 \t Loss: 4.753312110900879\n",
            "Epoch: 0/2 Iteration: 1400 \t Loss: 4.704807281494141\n",
            "Epoch: 0/2 Iteration: 1500 \t Loss: 5.163300037384033\n",
            "Epoch: 0/2 Iteration: 1600 \t Loss: 4.856583595275879\n",
            "Epoch: 0/2 Iteration: 1700 \t Loss: 4.828240394592285\n",
            "Final training loss 4.71836519241333\n",
            "\n",
            "Current validation loss: 5.050256729125977\n",
            "Validation perplexity: 156.06252513948348\n",
            " \n",
            "Current test loss: 4.839270114898682\n",
            "Test perplexity: 126.37707731347102\n",
            "\n",
            "going is a time , he has it and chandler . ] rachel: hey ? ! joey: yeah . monica: ( he to him , chandler , the couch is the phone . the <unk> ) ( he is to leave . he is to get a head , he goes to her the door of his door ) and i can't have to do you to the lot . monica: yeah , no ! ( she looks . ) ( they her to him ) hey . rachel: ( chandler to joey and rachel to monica . he goes to her\n",
            "\n",
            "The last predicted 200 characters are:\n",
            "\n",
            "oes to her the door of his door ) and i can't have to do you to the lot . monica: yeah , no ! ( she looks . ) ( they her to him ) hey . rachel: ( chandler to joey and rachel to monica . he goes to her\n",
            "Epoch: 1/2 Iteration: 300 \t Loss: 4.819886684417725\n",
            "Epoch: 1/2 Iteration: 400 \t Loss: 4.823408603668213\n",
            "Epoch: 1/2 Iteration: 500 \t Loss: 4.78032922744751\n",
            "Epoch: 1/2 Iteration: 600 \t Loss: 4.684825897216797\n",
            "Epoch: 1/2 Iteration: 700 \t Loss: 4.788895130157471\n",
            "Epoch: 1/2 Iteration: 800 \t Loss: 4.671502590179443\n",
            "Final training loss 4.785885334014893\n",
            "\n",
            "Current validation loss: 4.7634124755859375\n",
            "Validation perplexity: 117.14499904729888\n",
            " \n",
            "Current test loss: 4.767096519470215\n",
            "Test perplexity: 117.5773622981987\n",
            "\n",
            "going is a time , he has it and chandler . ] rachel: hey ? ! joey: yeah . monica: ( he to him , chandler , the couch is the phone . the <unk> ) ( he is to leave . he is to get a head , he goes to her the door of his door ) and i can't have to do you to the lot . monica: yeah , no ! ( she looks . ) ( they her to him ) hey . rachel: ( chandler to joey and rachel to monica . he goes to her . ) monica: hey ! joey: yeah . ( to rachel . the phone and chandler starts the bathroom ) monica: i mean , i'm not . ( chandler goes , and he looks the <unk> , he goes the door and chandler . ) ross: i - i'm just know it ! i can't know ! ( he starts a <unk> of his phone and rachel to leave . he has to the <unk> , ross has it on the couch and ross is it and chandler are the <unk> and phoebe to get to her and the couch to\n",
            "\n",
            "The last predicted 200 characters are:\n",
            "\n",
            "i can't know ! ( he starts a <unk> of his phone and rachel to leave . he has to the <unk> , ross has it on the couch and ross is it and chandler are the <unk> and phoebe to get to her and the couch to\n",
            "-----------------------------------------------------------\n",
            "--------------------Making T-SNE plots---------------------\n",
            "-----------------------------------------------------------\n",
            "Run Y = tsne.tsne(X, no_dims, perplexity) to perform t-SNE on your dataset.\n",
            "Running example on Friends Data...\n",
            "Preprocessing the data using PCA...\n",
            "Computing pairwise distances...\n",
            "Computing P-values for point 0 of 1000...\n",
            "Computing P-values for point 500 of 1000...\n",
            "Mean value of sigma: 2.208266\n",
            "Iteration 10: error is 20.099041\n",
            "Iteration 20: error is 20.229759\n",
            "Iteration 30: error is 20.700403\n",
            "Iteration 40: error is 21.077683\n",
            "Iteration 50: error is 21.588646\n",
            "Iteration 60: error is 21.336391\n",
            "Iteration 70: error is 20.940638\n",
            "Iteration 80: error is 21.356240\n",
            "Iteration 90: error is 21.403706\n",
            "Iteration 100: error is 21.177565\n",
            "Iteration 110: error is 3.655917\n",
            "Iteration 120: error is 3.310357\n",
            "Iteration 130: error is 3.179363\n",
            "Iteration 140: error is 3.103725\n",
            "Iteration 150: error is 3.044172\n",
            "Iteration 160: error is 2.995346\n",
            "Iteration 170: error is 2.952533\n",
            "Iteration 180: error is 2.910613\n",
            "Iteration 190: error is 2.861412\n",
            "Iteration 200: error is 2.807642\n",
            "Iteration 210: error is 2.777759\n",
            "Iteration 220: error is 2.765396\n",
            "Iteration 230: error is 2.755301\n",
            "Iteration 240: error is 2.747002\n",
            "Iteration 250: error is 2.739293\n",
            "Iteration 260: error is 2.732173\n",
            "Iteration 270: error is 2.726155\n",
            "Iteration 280: error is 2.720532\n",
            "Iteration 290: error is 2.715596\n",
            "Iteration 300: error is 2.711029\n",
            "Iteration 310: error is 2.706682\n",
            "Iteration 320: error is 2.703388\n",
            "Iteration 330: error is 2.700729\n",
            "Iteration 340: error is 2.698340\n",
            "Iteration 350: error is 2.696106\n",
            "Iteration 360: error is 2.694104\n",
            "Iteration 370: error is 2.692364\n",
            "Iteration 380: error is 2.690728\n",
            "Iteration 390: error is 2.689168\n",
            "Iteration 400: error is 2.687663\n",
            "Iteration 410: error is 2.685971\n",
            "Iteration 420: error is 2.684482\n",
            "Iteration 430: error is 2.683439\n",
            "Iteration 440: error is 2.682544\n",
            "Iteration 450: error is 2.681663\n",
            "Iteration 460: error is 2.680396\n",
            "Iteration 470: error is 2.679373\n",
            "Iteration 480: error is 2.678547\n",
            "Iteration 490: error is 2.677799\n",
            "Iteration 500: error is 2.677088\n",
            "Iteration 510: error is 2.676089\n",
            "Iteration 520: error is 2.674817\n",
            "Iteration 530: error is 2.674090\n",
            "Iteration 540: error is 2.673550\n",
            "Iteration 550: error is 2.673129\n",
            "Iteration 560: error is 2.672793\n",
            "Iteration 570: error is 2.672514\n",
            "Iteration 580: error is 2.672249\n",
            "Iteration 590: error is 2.671983\n",
            "Iteration 600: error is 2.671730\n",
            "Iteration 610: error is 2.671476\n",
            "Iteration 620: error is 2.671210\n",
            "Iteration 630: error is 2.670949\n",
            "Iteration 640: error is 2.670674\n",
            "Iteration 650: error is 2.670304\n",
            "Iteration 660: error is 2.670023\n",
            "Iteration 670: error is 2.669802\n",
            "Iteration 680: error is 2.669542\n",
            "Iteration 690: error is 2.669359\n",
            "Iteration 700: error is 2.669191\n",
            "Iteration 710: error is 2.669032\n",
            "Iteration 720: error is 2.668875\n",
            "Iteration 730: error is 2.668718\n",
            "Iteration 740: error is 2.668562\n",
            "Iteration 750: error is 2.668394\n",
            "Iteration 760: error is 2.668128\n",
            "Iteration 770: error is 2.667965\n",
            "Iteration 780: error is 2.667841\n",
            "Iteration 790: error is 2.667728\n",
            "Iteration 800: error is 2.667623\n",
            "Iteration 810: error is 2.667522\n",
            "Iteration 820: error is 2.667422\n",
            "Iteration 830: error is 2.667322\n",
            "Iteration 840: error is 2.667226\n",
            "Iteration 850: error is 2.667130\n",
            "Iteration 860: error is 2.667035\n",
            "Iteration 870: error is 2.666941\n",
            "Iteration 880: error is 2.666850\n",
            "Iteration 890: error is 2.666763\n",
            "Iteration 900: error is 2.666678\n",
            "Iteration 910: error is 2.666588\n",
            "Iteration 920: error is 2.666434\n",
            "Iteration 930: error is 2.666312\n",
            "Iteration 940: error is 2.666209\n",
            "Iteration 950: error is 2.666117\n",
            "Iteration 960: error is 2.666026\n",
            "Iteration 970: error is 2.665940\n",
            "Iteration 980: error is 2.665861\n",
            "Iteration 990: error is 2.665782\n",
            "Iteration 1000: error is 2.665703\n"
          ],
          "name": "stdout"
        },
        {
          "output_type": "display_data",
          "data": {
            "image/png": "[encoded data removed]",
            "text/plain": [
              "<Figure size 432x288 with 1 Axes>"
            ]
          },
          "metadata": {
            "tags": []
          }
        },
        {
          "output_type": "display_data",
          "data": {
            "image/png": "[encoded data removed]",
            "text/plain": [
              "<Figure size 432x288 with 1 Axes>"
            ]
          },
          "metadata": {
            "tags": []
          }
        }
      ]
    },
    {
      "cell_type": "markdown",
      "metadata": {
        "id": "XdofkAfbsgAt",
        "colab_type": "text"
      },
      "source": [
        "Extract word labels\n"
      ]
    },
    {
      "cell_type": "code",
      "metadata": {
        "id": "VXhiKEWCse4k",
        "colab_type": "code",
        "colab": {}
      },
      "source": [
        "#text=flags.train_file_friends.split()\n",
        "text=flags.train_file_pretraining.split()\n",
        "   # Extend words_notinpretraining to text to get them as a part of the mapping dictionary\n",
        "text.extend(words_notinpretraining)\n",
        "word_counts = Counter(text)\n",
        "sorted_vocab = sorted(word_counts, key=word_counts.get, reverse=True)\n",
        "int_to_vocab = {k: w for k, w in enumerate(sorted_vocab)}\n",
        "vocab_to_int = {w: k for k, w in int_to_vocab.items()}\n",
        "n_vocab = len(int_to_vocab)"
      ],
      "execution_count": 0,
      "outputs": []
    },
    {
      "cell_type": "code",
      "metadata": {
        "id": "SyM0Vt7Usq9i",
        "colab_type": "code",
        "colab": {}
      },
      "source": [
        "#import pickle\n",
        "#with open(\"Embedded_labels4.csv\", \"wb\") as fp:   #Pickling\n",
        "#  pickle.dump(sorted_vocab, fp)"
      ],
      "execution_count": 0,
      "outputs": []
    },
    {
      "cell_type": "code",
      "metadata": {
        "id": "AxgZnC0VGw2u",
        "colab_type": "code",
        "outputId": "e16ba232-c3f6-4382-af38-61a8dbe44e4f",
        "colab": {
          "base_uri": "https://localhost:8080/",
          "height": 34
        }
      },
      "source": [
        "n_vocab"
      ],
      "execution_count": 0,
      "outputs": [
        {
          "output_type": "execute_result",
          "data": {
            "text/plain": [
              "33347"
            ]
          },
          "metadata": {
            "tags": []
          },
          "execution_count": 53
        }
      ]
    },
    {
      "cell_type": "markdown",
      "metadata": {
        "id": "V7xjhSeKstMH",
        "colab_type": "text"
      },
      "source": [
        "Extract embedding weights\n"
      ]
    },
    {
      "cell_type": "code",
      "metadata": {
        "id": "oJgBgiw27RiR",
        "colab_type": "code",
        "colab": {}
      },
      "source": [
        "net = RNNModule(n_vocab, flags.seq_size,\n",
        "                    flags.embedding_size, flags.lstm_size)\n",
        "\n",
        "net.load_state_dict(torch.load('/content/drive/My Drive/net.pth'))\n",
        "device='cpu'\n",
        "net = net.to(device)"
      ],
      "execution_count": 0,
      "outputs": []
    },
    {
      "cell_type": "code",
      "metadata": {
        "id": "IyNKLTlg8VZI",
        "colab_type": "code",
        "outputId": "2d9cfb25-406f-437e-9776-9e885cc0a968",
        "colab": {
          "base_uri": "https://localhost:8080/",
          "height": 170
        }
      },
      "source": [
        "net.embedding.weight"
      ],
      "execution_count": 0,
      "outputs": [
        {
          "output_type": "execute_result",
          "data": {
            "text/plain": [
              "Parameter containing:\n",
              "tensor([[-0.6379,  1.0463, -0.3401,  ..., -0.4577, -0.3466, -0.0074],\n",
              "        [-1.3347,  0.6889,  0.4081,  ...,  0.0594, -0.5343,  0.2030],\n",
              "        [ 0.6943, -0.9482, -0.7068,  ...,  1.3558, -1.3177,  0.0564],\n",
              "        ...,\n",
              "        [ 0.8853,  0.3069, -0.8586,  ..., -0.1304,  0.4129, -1.5304],\n",
              "        [-0.1783, -0.0155,  0.7481,  ...,  0.7634, -0.0789, -0.9984],\n",
              "        [-1.0535, -0.6745, -1.0471,  ...,  0.1844, -0.9779, -0.4697]],\n",
              "       requires_grad=True)"
            ]
          },
          "metadata": {
            "tags": []
          },
          "execution_count": 56
        }
      ]
    }
  ]
}